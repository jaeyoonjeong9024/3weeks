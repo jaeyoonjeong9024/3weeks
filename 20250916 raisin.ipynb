{
  "cells": [
    {
      "cell_type": "markdown",
      "metadata": {
        "id": "view-in-github",
        "colab_type": "text"
      },
      "source": [
        "<a href=\"https://colab.research.google.com/github/jaeyoonjeong9024/3weeks/blob/main/20250916%20raisin.ipynb\" target=\"_parent\"><img src=\"https://colab.research.google.com/assets/colab-badge.svg\" alt=\"Open In Colab\"/></a>"
      ]
    },
    {
      "cell_type": "code",
      "source": [
        "import pandas as pd\n",
        "from sklearn.model_selection import train_test_split\n",
        "from sklearn.tree import DecisionTreeClassifier\n",
        "from sklearn.ensemble import RandomForestClassifier\n",
        "from sklearn.linear_model import LogisticRegression\n",
        "from sklearn.neighbors import KNeighborsClassifier\n",
        "from sklearn.metrics import accuracy_score, confusion_matrix\n",
        "from sklearn.preprocessing import LabelEncoder\n",
        "\n",
        "# -----------------------------\n",
        "# 1) 데이터 준비\n",
        "# -----------------------------\n",
        "df = pd.read_excel(\"/content/drive/MyDrive/Raisin_Dataset.xlsx\")\n",
        "\n",
        "# -----------------------------\n",
        "# 2) 결측치 제거\n",
        "# -----------------------------\n",
        "df = df.dropna()\n",
        "\n",
        "# -----------------------------\n",
        "# 3) Label Encoding\n",
        "# -----------------------------\n",
        "label_encoders = {}\n",
        "for column in df.columns:\n",
        "    if df[column].dtype == 'object':\n",
        "        label_encoders[column] = LabelEncoder()\n",
        "        df[column] = label_encoders[column].fit_transform(df[column])\n",
        "\n",
        "# -----------------------------\n",
        "# 4) 입력과 출력 분리\n",
        "# -----------------------------\n",
        "X = df.drop(columns=['Class'])\n",
        "y = df['Class']\n",
        "\n",
        "# -----------------------------\n",
        "# 5) 훈련과 테스트 데이터 분리\n",
        "# -----------------------------\n",
        "X_train, X_test, y_train, y_test = train_test_split(\n",
        "    X, y, test_size=0.2, stratify=y, random_state=42\n",
        ")\n",
        "\n",
        "# -----------------------------\n",
        "# 6) 모델 구성 및 학습\n",
        "# -----------------------------\n",
        "knn = KNeighborsClassifier(n_neighbors=5)\n",
        "dt = DecisionTreeClassifier(random_state=42)\n",
        "rf = RandomForestClassifier(n_estimators=200, random_state=42)\n",
        "lr = LogisticRegression(max_iter=500)\n",
        "\n",
        "knn.fit(X_train, y_train)\n",
        "dt.fit(X_train, y_train)\n",
        "rf.fit(X_train, y_train)\n",
        "lr.fit(X_train, y_train)\n",
        "\n",
        "# -----------------------------\n",
        "# 7) 예측 및 평가\n",
        "# -----------------------------\n",
        "knn_y_pred = knn.predict(X_test)\n",
        "dt_y_pred = dt.predict(X_test)\n",
        "rf_y_pred = rf.predict(X_test)\n",
        "lr_y_pred = lr.predict(X_test)\n",
        "\n",
        "knn_acc = accuracy_score(y_test, knn_y_pred)\n",
        "dt_acc = accuracy_score(y_test, dt_y_pred)\n",
        "rf_acc = accuracy_score(y_test, rf_y_pred)\n",
        "lr_acc = accuracy_score(y_test, lr_y_pred)\n",
        "\n",
        "print(\"=== KNN Test Accuracy ===\")\n",
        "print(f\"KNN : {knn_acc:.4f}\")\n",
        "print(\"혼동 행렬 (Confusion Matrix):\")\n",
        "print(confusion_matrix(y_test, knn_y_pred))\n",
        "\n",
        "print(\"\\n=== DT Test Accuracy ===\")\n",
        "print(f\"Decision Tree : {dt_acc:.4f}\")\n",
        "print(\"혼동 행렬 (Confusion Matrix):\")\n",
        "print(confusion_matrix(y_test, dt_y_pred))\n",
        "\n",
        "print(\"\\n=== RF Test Accuracy ===\")\n",
        "print(f\"Random Forest : {rf_acc:.4f}\")\n",
        "print(\"혼동 행렬 (Confusion Matrix):\")\n",
        "print(confusion_matrix(y_test, rf_y_pred))\n",
        "\n",
        "print(\"\\n=== LR Test Accuracy ===\")\n",
        "print(f\"Logistic Reg. : {lr_acc:.4f}\")\n",
        "print(\"혼동 행렬 (Confusion Matrix):\")\n",
        "print(confusion_matrix(y_test, lr_y_pred))"
      ],
      "metadata": {
        "colab": {
          "base_uri": "https://localhost:8080/"
        },
        "id": "NFrbyiKLlPXb",
        "outputId": "9e5ddc29-4545-4892-c0ce-cf50b191664e"
      },
      "execution_count": 9,
      "outputs": [
        {
          "output_type": "stream",
          "name": "stdout",
          "text": [
            "=== KNN Test Accuracy ===\n",
            "KNN : 0.8167\n",
            "혼동 행렬 (Confusion Matrix):\n",
            "[[67 23]\n",
            " [10 80]]\n",
            "\n",
            "=== DT Test Accuracy ===\n",
            "Decision Tree : 0.8444\n",
            "혼동 행렬 (Confusion Matrix):\n",
            "[[70 20]\n",
            " [ 8 82]]\n",
            "\n",
            "=== RF Test Accuracy ===\n",
            "Random Forest : 0.8667\n",
            "혼동 행렬 (Confusion Matrix):\n",
            "[[71 19]\n",
            " [ 5 85]]\n",
            "\n",
            "=== LR Test Accuracy ===\n",
            "Logistic Reg. : 0.8889\n",
            "혼동 행렬 (Confusion Matrix):\n",
            "[[74 16]\n",
            " [ 4 86]]\n"
          ]
        }
      ]
    }
  ],
  "metadata": {
    "colab": {
      "name": "Colab 시작하기",
      "provenance": [],
      "include_colab_link": true
    },
    "kernelspec": {
      "display_name": "Python 3",
      "name": "python3"
    }
  },
  "nbformat": 4,
  "nbformat_minor": 0
}